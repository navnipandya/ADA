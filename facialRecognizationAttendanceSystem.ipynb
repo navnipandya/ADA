{
  "nbformat": 4,
  "nbformat_minor": 0,
  "metadata": {
    "colab": {
      "provenance": [],
      "authorship_tag": "ABX9TyOOoStDj71rMnjY51WQ4SD7",
      "include_colab_link": true
    },
    "kernelspec": {
      "name": "python3",
      "display_name": "Python 3"
    },
    "language_info": {
      "name": "python"
    },
    "accelerator": "GPU",
    "gpuClass": "standard"
  },
  "cells": [
    {
      "cell_type": "markdown",
      "metadata": {
        "id": "view-in-github",
        "colab_type": "text"
      },
      "source": [
        "<a href=\"https://colab.research.google.com/github/navnipandya/ADA/blob/master/facialRecognizationAttendanceSystem.ipynb\" target=\"_parent\"><img src=\"https://colab.research.google.com/assets/colab-badge.svg\" alt=\"Open In Colab\"/></a>"
      ]
    },
    {
      "cell_type": "code",
      "execution_count": 37,
      "metadata": {
        "colab": {
          "base_uri": "https://localhost:8080/"
        },
        "id": "P6oeFTsH-Tb9",
        "outputId": "0940fc7a-8f11-44d7-c8fe-8c9e3db6ab4c"
      },
      "outputs": [
        {
          "output_type": "stream",
          "name": "stdout",
          "text": [
            "Looking in indexes: https://pypi.org/simple, https://us-python.pkg.dev/colab-wheels/public/simple/\n",
            "Requirement already satisfied: face_recognition in /usr/local/lib/python3.8/dist-packages (1.3.0)\n",
            "Requirement already satisfied: dlib>=19.7 in /usr/local/lib/python3.8/dist-packages (from face_recognition) (19.24.0)\n",
            "Requirement already satisfied: Pillow in /usr/local/lib/python3.8/dist-packages (from face_recognition) (7.1.2)\n",
            "Requirement already satisfied: numpy in /usr/local/lib/python3.8/dist-packages (from face_recognition) (1.21.6)\n",
            "Requirement already satisfied: Click>=6.0 in /usr/local/lib/python3.8/dist-packages (from face_recognition) (7.1.2)\n",
            "Requirement already satisfied: face-recognition-models>=0.3.0 in /usr/local/lib/python3.8/dist-packages (from face_recognition) (0.3.0)\n",
            "Looking in indexes: https://pypi.org/simple, https://us-python.pkg.dev/colab-wheels/public/simple/\n",
            "Requirement already satisfied: dlib in /usr/local/lib/python3.8/dist-packages (19.24.0)\n"
          ]
        }
      ],
      "source": [
        "!pip install face_recognition\n",
        "!pip install dlib\n",
        "\n",
        "\n",
        "import face_recognition\n",
        "import cv2\n",
        "import numpy as np\n",
        "import csv\n",
        "import os\n",
        "import glob\n",
        "from datetime import datetime"
      ]
    },
    {
      "cell_type": "code",
      "source": [],
      "metadata": {
        "id": "9gPl5nLW-hTG"
      },
      "execution_count": 19,
      "outputs": []
    },
    {
      "cell_type": "code",
      "source": [
        "video_capture = cv2.VideoCapture(0)\n",
        "jobs_image =face_recognition.load_image_file(\"/content/jobs.jpg\")\n",
        "jobs_encoding = face_recognition.face_encodings(jobs_image)[0]\n",
        "\n",
        "harry_image =face_recognition.load_image_file(\"/content/harry.jpg\")\n",
        "harry_encoding = face_recognition.face_encodings(harry_image)[0]\n",
        "\n",
        "riya_image =face_recognition.load_image_file(\"/content/riya.jpg\")\n",
        "riya_encoding = face_recognition.face_encodings(riya_image)[0]\n",
        "\n",
        "priya_image =face_recognition.load_image_file(\"/content/priya.jpg\")\n",
        "priya_encoding = face_recognition.face_encodings(priya_image)[0]\n",
        "\n",
        "known_face_encoding=[\n",
        "    jobs_encoding,\n",
        "    harry_encoding,\n",
        "    riya_encoding,\n",
        "    priya_encoding\n",
        "]\n",
        "\n",
        "known_faces_names =[\n",
        "    \"jobs\",\n",
        "    \"harry\",\n",
        "    \"riya\",\n",
        "    \"priya\"\n",
        "]\n",
        "\n",
        "\n",
        "students=known_faces_names.copy()\n",
        "\n",
        "face_location=[]\n",
        "face_encodings=[]\n",
        "face_names=[]\n",
        "s=True\n",
        "\n",
        "now=datetime.now()\n",
        "current_date= now.strftime(\"%Y-%m-%d\")\n",
        "\n",
        "f=open(current_date+'.csv','w+',newline='')\n",
        "lnwriter =csv.writer(f)\n",
        "\n",
        "while True:\n",
        "  _,frame=video_capture.read()\n",
        "  small_frame=cv2.resize(frame,(0,0),fx=0.25,fy=0.25)\n",
        "  rgb_small_frame=small_frame[:,:,::-1]\n",
        "  if s:\n",
        "    face_locations=face_recognition.face_locations(rgb_small_frame)\n",
        "    face_encodings=face_recognition.face_encodings(rgb_small_frame,face_locations)\n",
        "    face_names=[]\n",
        "    for face_encoding in face_encodings:\n",
        "      matches=face_recognition.compare_faces(known_face_encoding,face_encoding)\n",
        "      name=\"\"\n",
        "      face_distance=face_recognition.face_distance(known_face_encoding,face_encoding)\n",
        "      best_match_index=np.argmin(face_distance)\n",
        "      if matches[best_match_index]:\n",
        "        name=known_faces_names[best_match_index]\n",
        "\n",
        "      face_names.append(name)\n",
        "      if name in known_faces_names:\n",
        "        if name in students:\n",
        "          students.remove(name)\n",
        "          print(students)\n",
        "          current_time=now.strftime(\"%H-%M-%S\")\n",
        "          lnwriter.writerow([name,current_time])\n",
        "\n",
        "\n",
        "    cv2.imshow(\"attendance system\",frame)\n",
        "    if cv2.WaitKey(1)& 0xFF ==ord('q'):\n",
        "        break\n",
        "\n",
        "video_capture.release()\n",
        "cv2.destroyAllWindows()\n",
        "f.close()\n",
        "\n",
        "\n",
        "\n",
        "\n",
        "\n"
      ],
      "metadata": {
        "colab": {
          "base_uri": "https://localhost:8080/",
          "height": 235
        },
        "id": "Rb9sP3jPAhqT",
        "outputId": "e94eef69-fb00-4ce0-aa82-12793087f70c"
      },
      "execution_count": 38,
      "outputs": [
        {
          "output_type": "error",
          "ename": "error",
          "evalue": "ignored",
          "traceback": [
            "\u001b[0;31m---------------------------------------------------------------------------\u001b[0m",
            "\u001b[0;31merror\u001b[0m                                     Traceback (most recent call last)",
            "\u001b[0;32m<ipython-input-38-344942ee3d59>\u001b[0m in \u001b[0;36m<module>\u001b[0;34m\u001b[0m\n\u001b[1;32m     42\u001b[0m \u001b[0;32mwhile\u001b[0m \u001b[0;32mTrue\u001b[0m\u001b[0;34m:\u001b[0m\u001b[0;34m\u001b[0m\u001b[0;34m\u001b[0m\u001b[0m\n\u001b[1;32m     43\u001b[0m   \u001b[0m_\u001b[0m\u001b[0;34m,\u001b[0m\u001b[0mframe\u001b[0m\u001b[0;34m=\u001b[0m\u001b[0mvideo_capture\u001b[0m\u001b[0;34m.\u001b[0m\u001b[0mread\u001b[0m\u001b[0;34m(\u001b[0m\u001b[0;34m)\u001b[0m\u001b[0;34m\u001b[0m\u001b[0;34m\u001b[0m\u001b[0m\n\u001b[0;32m---> 44\u001b[0;31m   \u001b[0msmall_frame\u001b[0m\u001b[0;34m=\u001b[0m\u001b[0mcv2\u001b[0m\u001b[0;34m.\u001b[0m\u001b[0mresize\u001b[0m\u001b[0;34m(\u001b[0m\u001b[0mframe\u001b[0m\u001b[0;34m,\u001b[0m\u001b[0;34m(\u001b[0m\u001b[0;36m0\u001b[0m\u001b[0;34m,\u001b[0m\u001b[0;36m0\u001b[0m\u001b[0;34m)\u001b[0m\u001b[0;34m,\u001b[0m\u001b[0mfx\u001b[0m\u001b[0;34m=\u001b[0m\u001b[0;36m0.25\u001b[0m\u001b[0;34m,\u001b[0m\u001b[0mfy\u001b[0m\u001b[0;34m=\u001b[0m\u001b[0;36m0.25\u001b[0m\u001b[0;34m)\u001b[0m\u001b[0;34m\u001b[0m\u001b[0;34m\u001b[0m\u001b[0m\n\u001b[0m\u001b[1;32m     45\u001b[0m   \u001b[0mrgb_small_frame\u001b[0m\u001b[0;34m=\u001b[0m\u001b[0msmall_frame\u001b[0m\u001b[0;34m[\u001b[0m\u001b[0;34m:\u001b[0m\u001b[0;34m,\u001b[0m\u001b[0;34m:\u001b[0m\u001b[0;34m,\u001b[0m\u001b[0;34m:\u001b[0m\u001b[0;34m:\u001b[0m\u001b[0;34m-\u001b[0m\u001b[0;36m1\u001b[0m\u001b[0;34m]\u001b[0m\u001b[0;34m\u001b[0m\u001b[0;34m\u001b[0m\u001b[0m\n\u001b[1;32m     46\u001b[0m   \u001b[0;32mif\u001b[0m \u001b[0ms\u001b[0m\u001b[0;34m:\u001b[0m\u001b[0;34m\u001b[0m\u001b[0;34m\u001b[0m\u001b[0m\n",
            "\u001b[0;31merror\u001b[0m: OpenCV(4.6.0) /io/opencv/modules/imgproc/src/resize.cpp:4052: error: (-215:Assertion failed) !ssize.empty() in function 'resize'\n"
          ]
        }
      ]
    },
    {
      "cell_type": "code",
      "source": [
        "  "
      ],
      "metadata": {
        "id": "H_WZCC0xBuXA"
      },
      "execution_count": null,
      "outputs": []
    }
  ]
}